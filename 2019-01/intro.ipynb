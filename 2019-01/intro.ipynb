{
 "cells": [
  {
   "cell_type": "markdown",
   "metadata": {
    "slideshow": {
     "slide_type": "slide"
    }
   },
   "source": [
    "<center>\n",
    "<img src=./assets/PyDataLogoBerlin_BearOnly_Logo4x3.png width=600 style=\"display:inline\"/>\n",
    "<h2>https://berlin.pydata.org</h2>\n",
    "<h2>@pydataberlin</h2>\n",
    "</center>"
   ]
  },
  {
   "cell_type": "markdown",
   "metadata": {
    "slideshow": {
     "slide_type": "slide"
    }
   },
   "source": [
    "##  Introduction to DeliveryHero\n",
    "\n",
    "## Talk 1: 35 mins\n",
    "\n",
    "#### Title: Can you Explain your Model? Boosting Domain Knowledge and Decision Making with Model Interpretation\n",
    "\n",
    "### Speaker: Iván Lopez\n",
    "\n",
    "\n",
    "## Lightning Talks (10 mins each)\n",
    "\n",
    "#### Title: Lessons from the Advent of Code\n",
    "\n",
    "### Speaker: Eugene Ha\n",
    "\n",
    "#### Title: Connecting the Dots with JupyterHub and the Ethereum Blockchain\n",
    "\n",
    "### Speaker:  Marcus Jones"
   ]
  },
  {
   "cell_type": "markdown",
   "metadata": {
    "slideshow": {
     "slide_type": "slide"
    }
   },
   "source": [
    "<center>\n",
    "<h1>https://numfocus.org/code-of-conduct</h1>\n",
    "<img src=./assets/nf-coc-wide.png style=\"display:inline\"/>\n",
    "</center>"
   ]
  },
  {
   "cell_type": "markdown",
   "metadata": {
    "slideshow": {
     "slide_type": "slide"
    }
   },
   "source": [
    "<center>\n",
    "<h1>http://pythonberlinslack.herokuapp.com</h1>\n",
    "<img src=./assets/pythonberlin.png style=\"display:inline\"/>\n",
    "</center>"
   ]
  },
  {
   "cell_type": "markdown",
   "metadata": {
    "slideshow": {
     "slide_type": "slide"
    }
   },
   "source": [
    "<center>\n",
    "<table style=\"border-style: hidden;\">\n",
    "<tr style=\"border-style: hidden;\">\n",
    "<td style=\"border-style: hidden;\"> <img src=\"./assets/PyDataLogoBerlin_BearOnly_Logo4x3.png\" style=\"width: 300px;\"/> </td>\n",
    "<td style=\"border-style: hidden;\"> <img src=\"./assets/pyconde.png\" style=\"width: 200px;\"/> </td>\n",
    "</tr>\n",
    "</table>\n",
    "<h2>PyCon DE & PyData Berlin Conference 2019</h2>\n",
    "<h3>October 9-13 @ Kosmos</h3>\n",
    "<h4>Conference: October 9-11</h4>\n",
    "<h4>Tutorials / Sprints: October 12-13</h4>\n",
    "</center>"
   ]
  },
  {
   "cell_type": "markdown",
   "metadata": {
    "slideshow": {
     "slide_type": "slide"
    }
   },
   "source": [
    "<center>\n",
    "<img src=./assets/PyDataLogoBerlin_BearOnly_Logo4x3.png width=600 style=\"display:inline\"/>\n",
    "<h2>https://berlin.pydata.org</h2>\n",
    "<h2>@pydataberlin</h2>\n",
    "</center>"
   ]
  },
  {
   "cell_type": "code",
   "execution_count": null,
   "metadata": {},
   "outputs": [],
   "source": []
  }
 ],
 "metadata": {
  "celltoolbar": "Slideshow",
  "kernelspec": {
   "display_name": "Python [default]",
   "language": "python",
   "name": "python3"
  },
  "language_info": {
   "codemirror_mode": {
    "name": "ipython",
    "version": 3
   },
   "file_extension": ".py",
   "mimetype": "text/x-python",
   "name": "python",
   "nbconvert_exporter": "python",
   "pygments_lexer": "ipython3",
   "version": "3.6.5"
  }
 },
 "nbformat": 4,
 "nbformat_minor": 1
}
